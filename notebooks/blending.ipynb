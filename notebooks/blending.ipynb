{
  "nbformat": 4,
  "nbformat_minor": 0,
  "metadata": {
    "colab": {
      "name": "blending.ipynb",
      "provenance": [],
      "collapsed_sections": []
    },
    "kernelspec": {
      "name": "python3",
      "display_name": "Python 3"
    },
    "accelerator": "GPU"
  },
  "cells": [
    {
      "cell_type": "code",
      "metadata": {
        "id": "nHA7ta5nTFLa"
      },
      "source": [
        "!cp /content/drive/\"My Drive\"/kaggle/moa/lish-moa.zip /content/\n",
        "!unzip lish-moa.zip"
      ],
      "execution_count": null,
      "outputs": []
    },
    {
      "cell_type": "code",
      "metadata": {
        "id": "G70hTyspHiT3",
        "outputId": "21615fdf-d94a-4084-f5d2-6154d31e7d2c",
        "colab": {
          "base_uri": "https://localhost:8080/",
          "height": 366
        }
      },
      "source": [
        "!cp /content/drive/\"My Drive\"/kaggle/moa/blending.zip /content/\n",
        "!unzip blending.zip"
      ],
      "execution_count": 2,
      "outputs": [
        {
          "output_type": "stream",
          "text": [
            "Archive:  blending.zip\n",
            "   creating: blending/\n",
            "   creating: blending/hold_preds/\n",
            "  inflating: blending/hold_preds/model_1_hold_0.npy  \n",
            "  inflating: blending/hold_preds/model_1_hold_1.npy  \n",
            "  inflating: blending/hold_preds/model_1_hold_2.npy  \n",
            "  inflating: blending/hold_preds/model_1_hold_3.npy  \n",
            "  inflating: blending/hold_preds/model_1_hold_4.npy  \n",
            "  inflating: blending/hold_preds/model_1_hold_5.npy  \n",
            "  inflating: blending/hold_preds/model_1_hold_6.npy  \n",
            "   creating: blending/subs/\n",
            "  inflating: blending/subs/model_1_test_0.npy  \n",
            "  inflating: blending/subs/model_1_test_1.npy  \n",
            "  inflating: blending/subs/model_1_test_2.npy  \n",
            "  inflating: blending/subs/model_1_test_3.npy  \n",
            "  inflating: blending/subs/model_1_test_4.npy  \n",
            "  inflating: blending/subs/model_1_test_5.npy  \n",
            "  inflating: blending/subs/model_1_test_6.npy  \n",
            "   creating: blending/hold_labels/\n",
            "  inflating: blending/hold_labels/hold_labels_785.npy  \n",
            "  inflating: blending/hold_labels/hold_labels_875.npy  \n"
          ],
          "name": "stdout"
        }
      ]
    },
    {
      "cell_type": "code",
      "metadata": {
        "id": "CtFS5tQgZjhD"
      },
      "source": [
        "!rm train_targets_folds.csv\n",
        "!wget https://github.com/Mayukhdeb/moa-classification-with-model-blending/raw/main/folds/train_targets_folds.csv"
      ],
      "execution_count": null,
      "outputs": []
    },
    {
      "cell_type": "code",
      "metadata": {
        "id": "6h476caGOea4"
      },
      "source": [
        "import torch\n",
        "import torch.nn as nn\n",
        "from torch.nn import functional as F\n",
        "\n",
        "import numpy as np \n",
        "import pandas as pd \n",
        "\n",
        "from IPython.display import clear_output\n",
        "import matplotlib.pyplot as plt\n",
        "import os\n",
        "\n",
        "plt.rcParams['figure.figsize'] = 15, 7\n",
        "\n",
        "CGREEN  = '\\33[32m'\n",
        "CBLUE =  '\\033[34m'\n",
        "CRED = '\\033[1;31m'\n",
        "CEND  = '\\33[0m'\n",
        "\n",
        "def seed_everything(seed=1903):\n",
        "    random.seed(seed)\n",
        "    os.environ['PYTHONHASHSEED'] = str(seed)\n",
        "    np.random.seed(seed)\n",
        "    torch.manual_seed(seed)\n",
        "    torch.cuda.manual_seed(seed)\n",
        "    torch.backends.cudnn.deterministic = True\n",
        "    print(\"seed kar diya\")"
      ],
      "execution_count": 4,
      "outputs": []
    },
    {
      "cell_type": "code",
      "metadata": {
        "id": "nGTVaGtfa8rF",
        "outputId": "8849319c-4a1a-43a4-ee9b-9a1baae10304",
        "colab": {
          "base_uri": "https://localhost:8080/",
          "height": 34
        }
      },
      "source": [
        "if torch.cuda.is_available():\n",
        "    device='cuda'\n",
        "else:\n",
        "    device='cpu'\n",
        "    \n",
        "device\n"
      ],
      "execution_count": 5,
      "outputs": [
        {
          "output_type": "execute_result",
          "data": {
            "application/vnd.google.colaboratory.intrinsic+json": {
              "type": "string"
            },
            "text/plain": [
              "'cuda'"
            ]
          },
          "metadata": {
            "tags": []
          },
          "execution_count": 5
        }
      ]
    },
    {
      "cell_type": "code",
      "metadata": {
        "id": "2YTHfKNYIREl"
      },
      "source": [
        "!ls blending"
      ],
      "execution_count": null,
      "outputs": []
    },
    {
      "cell_type": "code",
      "metadata": {
        "id": "-T0iwShvH0OV"
      },
      "source": [
        "hold_labels_filenames = [\"blending/hold_labels/\" + name for name in os.listdir(\"blending/hold_labels\")]\n",
        "\n",
        "hold_preds_filenames = np.sort(np.array([\"blending/hold_preds/\" + name for name in os.listdir(\"blending/hold_preds\")]))\n",
        "\n",
        "subs_filenames = np.sort(np.array([\"blending/subs/\" + name for name in os.listdir(\"blending/subs\")]))"
      ],
      "execution_count": 8,
      "outputs": []
    },
    {
      "cell_type": "code",
      "metadata": {
        "id": "8evGwgFwH1Xo"
      },
      "source": [
        "hold_preds_filenames, subs_filenames"
      ],
      "execution_count": null,
      "outputs": []
    },
    {
      "cell_type": "code",
      "metadata": {
        "id": "tUwYJQPKIJm5"
      },
      "source": [
        "class blend():\n",
        "    def __init__(self,all_preds_np):\n",
        "        \n",
        "        self.all_preds = all_preds_np\n",
        "           \n",
        "    def predict(self, weights):\n",
        "        self.weights = weights\n",
        "        final_pred = np.zeros_like(self.all_preds[0])\n",
        "        \n",
        "        for i in range(len(self.all_preds)):\n",
        "            final_pred += self.all_preds[i] * self.weights[i]\n",
        "            \n",
        "        final_pred = final_pred/self.weights.sum()\n",
        "        \n",
        "        return final_pred\n",
        "\n",
        "def log_loss_metric(y_true, y_pred):\n",
        "    y_pred = y_pred.astype(np.float64)\n",
        "    y_pred_clip = np.clip(y_pred, , 1 - )\n",
        "    loss = - np.mean(np.mean(y_true * np.log(y_pred_clip) + (1 - y_true) * np.log(1 - y_pred_clip), axis = 1))\n",
        "    return loss"
      ],
      "execution_count": 14,
      "outputs": []
    },
    {
      "cell_type": "code",
      "metadata": {
        "id": "qLkt2yHXJGYU"
      },
      "source": [
        "\n",
        "hold_preds_filenames, subs_filenames"
      ],
      "execution_count": null,
      "outputs": []
    },
    {
      "cell_type": "code",
      "metadata": {
        "id": "HRLfXZiLJMYm"
      },
      "source": [
        "hold_preds = [np.load(name) for name in hold_preds_filenames]\n",
        "hold_labels = np.load(hold_labels_filenames[0])"
      ],
      "execution_count": 12,
      "outputs": []
    },
    {
      "cell_type": "code",
      "metadata": {
        "id": "oV39CQvdKTzI"
      },
      "source": [
        "for p in hold_preds:\n",
        "    print(log_loss_metric(hold_labels, p))"
      ],
      "execution_count": null,
      "outputs": []
    },
    {
      "cell_type": "code",
      "metadata": {
        "id": "8o-k2I0oLdxJ"
      },
      "source": [
        "!pip install optuna"
      ],
      "execution_count": null,
      "outputs": []
    },
    {
      "cell_type": "code",
      "metadata": {
        "id": "gEWWmbo5LUgP"
      },
      "source": [
        "import optuna  \n",
        "optuna.logging.set_verbosity(1)"
      ],
      "execution_count": 19,
      "outputs": []
    },
    {
      "cell_type": "code",
      "metadata": {
        "id": "Jl8fs3uYLcdp"
      },
      "source": [
        "def find_loss(params):\n",
        "    \n",
        "    weights_np = np.array(list(params.values()))\n",
        "\n",
        "    weights_np[weights_np < 0.1] = 0\n",
        "    # print(weights_np)\n",
        "    blend_boi = blend(hold_preds)\n",
        "    sample_infer = blend_boi.predict(weights_np)\n",
        "    \n",
        "    \n",
        "    loss = log_loss_metric(hold_labels, sample_infer)\n",
        "    \n",
        "    return loss\n",
        "\n",
        "\n",
        "def objective(trial):\n",
        "\n",
        "    params = {\n",
        "        \"w1\": trial.suggest_uniform(\"w1\", 0.0, 1.0),\n",
        "        \"w2\": trial.suggest_uniform(\"w2\", 0.0, 1.0),\n",
        "        \"w3\": trial.suggest_uniform(\"w3\", 0.0, 1.0),\n",
        "        \"w4\": trial.suggest_uniform(\"w4\", 0.0, 1.0),\n",
        "        \"w5\": trial.suggest_uniform(\"w5\", 0.0, 1.0),\n",
        "        \"w6\": trial.suggest_uniform(\"w6\", 0.0, 1.0),\n",
        "        \"w7\": trial.suggest_uniform(\"w7\", 0.0, 1.0),\n",
        "        # \"w8\": trial.suggest_uniform(\"w8\", 0.0, 1.0),\n",
        "        # \"w9\": trial.suggest_uniform(\"w9\", 0.0, 1.0),\n",
        "        # \"w10\": trial.suggest_uniform(\"w10\", 0.0, 1.0),\n",
        "        # \"w11\": trial.suggest_uniform(\"w11\", 0.0, 1.0),\n",
        "        # \"w12\": trial.suggest_uniform(\"w12\", 0.0, 1.0),\n",
        "        # \"w13\": trial.suggest_uniform(\"w13\", 0.0, 1.0),\n",
        "        # \"w14\": trial.suggest_uniform(\"w14\", 0.0, 1.0),\n",
        "        # \"w15\": trial.suggest_uniform(\"w15\", 0.0, 1.0),\n",
        "        # \"w16\": trial.suggest_uniform(\"w16\", 0.0, 1.0),\n",
        "        # \"w17\": trial.suggest_uniform(\"w17\", 0.0, 1.0),\n",
        "        # \"w18\": trial.suggest_uniform(\"w18\", 0.0, 1.0),\n",
        "        # \"w19\": trial.suggest_uniform(\"w19\", 0.0, 1.0),\n",
        "        # \"w20\": trial.suggest_uniform(\"w20\", 0.0, 1.0),\n",
        "        # \"w21\": trial.suggest_uniform(\"w21\", 0.0, 1.0),\n",
        "        # \"w22\": trial.suggest_uniform(\"w22\", 0.0, 1.0),\n",
        "        # \"w23\": trial.suggest_uniform(\"w23\", 0.0, 1.0),\n",
        "        # \"w24\": trial.suggest_uniform(\"w24\", 0.0, 1.0),\n",
        "        # \"w25\": trial.suggest_uniform(\"w25\", 0.0, 1.0),\n",
        "        # \"w26\": trial.suggest_uniform(\"w26\", 0.0, 1.0),\n",
        "        # \"w27\": trial.suggest_uniform(\"w27\", 0.0, 1.0),\n",
        "        # \"w28\": trial.suggest_uniform(\"w28\", 0.0, 1.0),\n",
        "    \n",
        "\n",
        "    }\n",
        "\n",
        "    loss_ = find_loss(params) \n",
        "    return loss_"
      ],
      "execution_count": 42,
      "outputs": []
    },
    {
      "cell_type": "code",
      "metadata": {
        "id": "0PS7s8n7MKWq",
        "outputId": "6b9df932-ad2a-4853-ae9c-f11c5b751f0d",
        "colab": {
          "base_uri": "https://localhost:8080/",
          "height": 33
        }
      },
      "source": [
        "len(hold_preds)"
      ],
      "execution_count": 43,
      "outputs": [
        {
          "output_type": "execute_result",
          "data": {
            "text/plain": [
              "7"
            ]
          },
          "metadata": {
            "tags": []
          },
          "execution_count": 43
        }
      ]
    },
    {
      "cell_type": "code",
      "metadata": {
        "id": "ZIhp4UIzMAjZ",
        "outputId": "cb22aee3-a093-4f0a-cbe6-1d97b0bad741",
        "colab": {
          "base_uri": "https://localhost:8080/",
          "height": 53
        }
      },
      "source": [
        "study = optuna.create_study(direction=\"minimize\")"
      ],
      "execution_count": 44,
      "outputs": [
        {
          "output_type": "stream",
          "text": [
            "\u001b[32m[I 2020-10-12 15:06:45,439]\u001b[0m A new study created in memory with name: no-name-25c918c8-4045-42d5-900a-9dcacbddaa27\u001b[0m\n"
          ],
          "name": "stderr"
        }
      ]
    },
    {
      "cell_type": "code",
      "metadata": {
        "id": "I4ytJIz8MFSr"
      },
      "source": [
        "study.optimize(objective, n_trials=1000)"
      ],
      "execution_count": null,
      "outputs": []
    },
    {
      "cell_type": "code",
      "metadata": {
        "id": "Hosy1cdtMG0X",
        "outputId": "579f15bd-4165-4564-8bfd-df5f7742402e",
        "colab": {
          "base_uri": "https://localhost:8080/",
          "height": 133
        }
      },
      "source": [
        "best_trial = study.best_params\n",
        "best_trial"
      ],
      "execution_count": 47,
      "outputs": [
        {
          "output_type": "execute_result",
          "data": {
            "text/plain": [
              "{'w1': 0.03385147568596504,\n",
              " 'w2': 0.4603810910453131,\n",
              " 'w3': 0.6336940186025386,\n",
              " 'w4': 0.9811654433727185,\n",
              " 'w5': 0.670980266901256,\n",
              " 'w6': 0.8063997536588629,\n",
              " 'w7': 0.3671495824818029}"
            ]
          },
          "metadata": {
            "tags": []
          },
          "execution_count": 47
        }
      ]
    },
    {
      "cell_type": "code",
      "metadata": {
        "id": "Fp0LsryaOf6N",
        "outputId": "cb87c109-bacf-4d62-98ba-d04687224562",
        "colab": {
          "base_uri": "https://localhost:8080/",
          "height": 33
        }
      },
      "source": [
        "\n",
        "blend_boi = blend(hold_preds)\n",
        "noice_weights = np.array(list(best_trial.values()))\n",
        "noice_weights[noice_weights < 0.1] = 0\n",
        "sample_infer = blend_boi.predict(noice_weights)\n",
        "loss = log_loss_metric(hold_labels, sample_infer)\n",
        "print(\"loss on hold set: \", loss)  ## scalar only on model 1 was 0.014533262113321026"
      ],
      "execution_count": 48,
      "outputs": [
        {
          "output_type": "stream",
          "text": [
            "loss on hold set:  0.014852232543086617\n"
          ],
          "name": "stdout"
        }
      ]
    },
    {
      "cell_type": "code",
      "metadata": {
        "id": "Y1PFP9rHOn0_",
        "outputId": "4838897f-a45b-4db3-f973-4cb3beece2e9",
        "colab": {
          "base_uri": "https://localhost:8080/",
          "height": 325
        }
      },
      "source": [
        "plt.plot(sample_infer[1])"
      ],
      "execution_count": 49,
      "outputs": [
        {
          "output_type": "execute_result",
          "data": {
            "text/plain": [
              "[<matplotlib.lines.Line2D at 0x7efd8eec90b8>]"
            ]
          },
          "metadata": {
            "tags": []
          },
          "execution_count": 49
        },
        {
          "output_type": "display_data",
          "data": {
            "image/png": "[encoded data removed]",
            "text/plain": [
              "<Figure size 1080x504 with 1 Axes>"
            ]
          },
          "metadata": {
            "tags": [],
            "needs_background": "light"
          }
        }
      ]
    },
    {
      "cell_type": "code",
      "metadata": {
        "id": "WSdCI9sBP3xr"
      },
      "source": [
        "subs = [np.load(n) for n in subs_filenames]"
      ],
      "execution_count": 50,
      "outputs": []
    },
    {
      "cell_type": "code",
      "metadata": {
        "id": "7SZdMNF1O11d"
      },
      "source": [
        "blend_final = blend(subs)\n",
        "final_preds = blend_final.predict(noice_weights)"
      ],
      "execution_count": 51,
      "outputs": []
    },
    {
      "cell_type": "code",
      "metadata": {
        "id": "HJr6jFtWQMrT"
      },
      "source": [
        "final_preds[0]"
      ],
      "execution_count": null,
      "outputs": []
    },
    {
      "cell_type": "code",
      "metadata": {
        "id": "Zy1Way1EXEer",
        "outputId": "b34465e1-a75e-444e-dc28-dbf054640f34",
        "colab": {
          "base_uri": "https://localhost:8080/",
          "height": 328
        }
      },
      "source": [
        "plt.plot(final_preds[0])"
      ],
      "execution_count": 53,
      "outputs": [
        {
          "output_type": "execute_result",
          "data": {
            "text/plain": [
              "[<matplotlib.lines.Line2D at 0x7efd8ee4c6a0>]"
            ]
          },
          "metadata": {
            "tags": []
          },
          "execution_count": 53
        },
        {
          "output_type": "display_data",
          "data": {
            "image/png": "[encoded data removed]",
            "text/plain": [
              "<Figure size 1080x504 with 1 Axes>"
            ]
          },
          "metadata": {
            "tags": [],
            "needs_background": "light"
          }
        }
      ]
    },
    {
      "cell_type": "code",
      "metadata": {
        "id": "_t_Nh4A8Qatw",
        "outputId": "06d9a833-fae4-4e7b-dc0e-9730d0d517e0",
        "colab": {
          "base_uri": "https://localhost:8080/",
          "height": 33
        }
      },
      "source": [
        "sample_submission_columns = pd.read_csv(\"sample_submission.csv\").columns[1:]\n",
        "sig_ids = pd.read_csv(\"sample_submission.csv\")[\"sig_id\"].values\n",
        "\n",
        "\n",
        "\n",
        "pred_df = pd.DataFrame(final_preds, columns= sample_submission_columns)\n",
        "pred_df[\"sig_id\"] = sig_ids\n",
        "columns_arrangement = [\"sig_id\"]\n",
        "columns_arrangement.extend(pred_df.columns[:-1])\n",
        "pred_df = pred_df[columns_arrangement]\n",
        "save_name = \"submission.csv\"\n",
        "print(\"saved: \", save_name)\n",
        "pred_df.to_csv(save_name, index = False)\n"
      ],
      "execution_count": 54,
      "outputs": [
        {
          "output_type": "stream",
          "text": [
            "saved:  submission.csv\n"
          ],
          "name": "stdout"
        }
      ]
    },
    {
      "cell_type": "code",
      "metadata": {
        "id": "ejWedfiaRo3I",
        "outputId": "e775a3ce-8990-4aba-881f-47855bd922d8",
        "colab": {
          "base_uri": "https://localhost:8080/",
          "height": 263
        }
      },
      "source": [
        "pred_df.head()"
      ],
      "execution_count": 55,
      "outputs": [
        {
          "output_type": "execute_result",
          "data": {
            "text/html": [
              "<div>\n",
              "<style scoped>\n",
              "    .dataframe tbody tr th:only-of-type {\n",
              "        vertical-align: middle;\n",
              "    }\n",
              "\n",
              "    .dataframe tbody tr th {\n",
              "        vertical-align: top;\n",
              "    }\n",
              "\n",
              "    .dataframe thead th {\n",
              "        text-align: right;\n",
              "    }\n",
              "</style>\n",
              "<table border=\"1\" class=\"dataframe\">\n",
              "  <thead>\n",
              "    <tr style=\"text-align: right;\">\n",
              "      <th></th>\n",
              "      <th>sig_id</th>\n",
              "      <th>5-alpha_reductase_inhibitor</th>\n",
              "      <th>11-beta-hsd1_inhibitor</th>\n",
              "      <th>acat_inhibitor</th>\n",
              "      <th>acetylcholine_receptor_agonist</th>\n",
              "      <th>acetylcholine_receptor_antagonist</th>\n",
              "      <th>acetylcholinesterase_inhibitor</th>\n",
              "      <th>adenosine_receptor_agonist</th>\n",
              "      <th>adenosine_receptor_antagonist</th>\n",
              "      <th>adenylyl_cyclase_activator</th>\n",
              "      <th>adrenergic_receptor_agonist</th>\n",
              "      <th>adrenergic_receptor_antagonist</th>\n",
              "      <th>akt_inhibitor</th>\n",
              "      <th>aldehyde_dehydrogenase_inhibitor</th>\n",
              "      <th>alk_inhibitor</th>\n",
              "      <th>ampk_activator</th>\n",
              "      <th>analgesic</th>\n",
              "      <th>androgen_receptor_agonist</th>\n",
              "      <th>androgen_receptor_antagonist</th>\n",
              "      <th>anesthetic_-_local</th>\n",
              "      <th>angiogenesis_inhibitor</th>\n",
              "      <th>angiotensin_receptor_antagonist</th>\n",
              "      <th>anti-inflammatory</th>\n",
              "      <th>antiarrhythmic</th>\n",
              "      <th>antibiotic</th>\n",
              "      <th>anticonvulsant</th>\n",
              "      <th>antifungal</th>\n",
              "      <th>antihistamine</th>\n",
              "      <th>antimalarial</th>\n",
              "      <th>antioxidant</th>\n",
              "      <th>antiprotozoal</th>\n",
              "      <th>antiviral</th>\n",
              "      <th>apoptosis_stimulant</th>\n",
              "      <th>aromatase_inhibitor</th>\n",
              "      <th>atm_kinase_inhibitor</th>\n",
              "      <th>atp-sensitive_potassium_channel_antagonist</th>\n",
              "      <th>atp_synthase_inhibitor</th>\n",
              "      <th>atpase_inhibitor</th>\n",
              "      <th>atr_kinase_inhibitor</th>\n",
              "      <th>aurora_kinase_inhibitor</th>\n",
              "      <th>...</th>\n",
              "      <th>protein_synthesis_inhibitor</th>\n",
              "      <th>protein_tyrosine_kinase_inhibitor</th>\n",
              "      <th>radiopaque_medium</th>\n",
              "      <th>raf_inhibitor</th>\n",
              "      <th>ras_gtpase_inhibitor</th>\n",
              "      <th>retinoid_receptor_agonist</th>\n",
              "      <th>retinoid_receptor_antagonist</th>\n",
              "      <th>rho_associated_kinase_inhibitor</th>\n",
              "      <th>ribonucleoside_reductase_inhibitor</th>\n",
              "      <th>rna_polymerase_inhibitor</th>\n",
              "      <th>serotonin_receptor_agonist</th>\n",
              "      <th>serotonin_receptor_antagonist</th>\n",
              "      <th>serotonin_reuptake_inhibitor</th>\n",
              "      <th>sigma_receptor_agonist</th>\n",
              "      <th>sigma_receptor_antagonist</th>\n",
              "      <th>smoothened_receptor_antagonist</th>\n",
              "      <th>sodium_channel_inhibitor</th>\n",
              "      <th>sphingosine_receptor_agonist</th>\n",
              "      <th>src_inhibitor</th>\n",
              "      <th>steroid</th>\n",
              "      <th>syk_inhibitor</th>\n",
              "      <th>tachykinin_antagonist</th>\n",
              "      <th>tgf-beta_receptor_inhibitor</th>\n",
              "      <th>thrombin_inhibitor</th>\n",
              "      <th>thymidylate_synthase_inhibitor</th>\n",
              "      <th>tlr_agonist</th>\n",
              "      <th>tlr_antagonist</th>\n",
              "      <th>tnf_inhibitor</th>\n",
              "      <th>topoisomerase_inhibitor</th>\n",
              "      <th>transient_receptor_potential_channel_antagonist</th>\n",
              "      <th>tropomyosin_receptor_kinase_inhibitor</th>\n",
              "      <th>trpv_agonist</th>\n",
              "      <th>trpv_antagonist</th>\n",
              "      <th>tubulin_inhibitor</th>\n",
              "      <th>tyrosine_kinase_inhibitor</th>\n",
              "      <th>ubiquitin_specific_protease_inhibitor</th>\n",
              "      <th>vegfr_inhibitor</th>\n",
              "      <th>vitamin_b</th>\n",
              "      <th>vitamin_d_receptor_agonist</th>\n",
              "      <th>wnt_inhibitor</th>\n",
              "    </tr>\n",
              "  </thead>\n",
              "  <tbody>\n",
              "    <tr>\n",
              "      <th>0</th>\n",
              "      <td>id_0004d9e33</td>\n",
              "      <td>0.001507</td>\n",
              "      <td>0.001466</td>\n",
              "      <td>0.003645</td>\n",
              "      <td>0.013627</td>\n",
              "      <td>0.017633</td>\n",
              "      <td>0.004892</td>\n",
              "      <td>0.002115</td>\n",
              "      <td>0.005215</td>\n",
              "      <td>0.000690</td>\n",
              "      <td>0.005938</td>\n",
              "      <td>0.010028</td>\n",
              "      <td>0.002047</td>\n",
              "      <td>0.001512</td>\n",
              "      <td>0.001072</td>\n",
              "      <td>0.001752</td>\n",
              "      <td>0.001263</td>\n",
              "      <td>0.002782</td>\n",
              "      <td>0.005076</td>\n",
              "      <td>0.005197</td>\n",
              "      <td>0.001777</td>\n",
              "      <td>0.002529</td>\n",
              "      <td>0.004566</td>\n",
              "      <td>0.000973</td>\n",
              "      <td>0.003116</td>\n",
              "      <td>0.000876</td>\n",
              "      <td>0.001083</td>\n",
              "      <td>0.001684</td>\n",
              "      <td>0.002335</td>\n",
              "      <td>0.003424</td>\n",
              "      <td>0.002864</td>\n",
              "      <td>0.001549</td>\n",
              "      <td>0.003904</td>\n",
              "      <td>0.004776</td>\n",
              "      <td>0.000791</td>\n",
              "      <td>0.000791</td>\n",
              "      <td>0.001761</td>\n",
              "      <td>0.004604</td>\n",
              "      <td>0.001032</td>\n",
              "      <td>0.001326</td>\n",
              "      <td>...</td>\n",
              "      <td>0.002616</td>\n",
              "      <td>0.001025</td>\n",
              "      <td>0.003413</td>\n",
              "      <td>0.001816</td>\n",
              "      <td>0.001257</td>\n",
              "      <td>0.003921</td>\n",
              "      <td>0.000974</td>\n",
              "      <td>0.001471</td>\n",
              "      <td>0.001052</td>\n",
              "      <td>0.002187</td>\n",
              "      <td>0.006984</td>\n",
              "      <td>0.006656</td>\n",
              "      <td>0.002812</td>\n",
              "      <td>0.003428</td>\n",
              "      <td>0.001438</td>\n",
              "      <td>0.001983</td>\n",
              "      <td>0.012841</td>\n",
              "      <td>0.002696</td>\n",
              "      <td>0.001105</td>\n",
              "      <td>0.001103</td>\n",
              "      <td>0.001161</td>\n",
              "      <td>0.002355</td>\n",
              "      <td>0.000720</td>\n",
              "      <td>0.001005</td>\n",
              "      <td>0.001408</td>\n",
              "      <td>0.002299</td>\n",
              "      <td>0.001475</td>\n",
              "      <td>0.002717</td>\n",
              "      <td>0.001433</td>\n",
              "      <td>0.001243</td>\n",
              "      <td>0.001406</td>\n",
              "      <td>0.003602</td>\n",
              "      <td>0.003681</td>\n",
              "      <td>0.001340</td>\n",
              "      <td>0.001532</td>\n",
              "      <td>0.001122</td>\n",
              "      <td>0.001093</td>\n",
              "      <td>0.001946</td>\n",
              "      <td>0.054969</td>\n",
              "      <td>0.001514</td>\n",
              "    </tr>\n",
              "    <tr>\n",
              "      <th>1</th>\n",
              "      <td>id_001897cda</td>\n",
              "      <td>0.000785</td>\n",
              "      <td>0.001300</td>\n",
              "      <td>0.002466</td>\n",
              "      <td>0.003183</td>\n",
              "      <td>0.003402</td>\n",
              "      <td>0.002273</td>\n",
              "      <td>0.004010</td>\n",
              "      <td>0.006518</td>\n",
              "      <td>0.003928</td>\n",
              "      <td>0.005862</td>\n",
              "      <td>0.006510</td>\n",
              "      <td>0.004331</td>\n",
              "      <td>0.001173</td>\n",
              "      <td>0.008116</td>\n",
              "      <td>0.001344</td>\n",
              "      <td>0.001433</td>\n",
              "      <td>0.001583</td>\n",
              "      <td>0.003097</td>\n",
              "      <td>0.003765</td>\n",
              "      <td>0.002366</td>\n",
              "      <td>0.004226</td>\n",
              "      <td>0.003942</td>\n",
              "      <td>0.000898</td>\n",
              "      <td>0.001338</td>\n",
              "      <td>0.000962</td>\n",
              "      <td>0.001832</td>\n",
              "      <td>0.001493</td>\n",
              "      <td>0.001070</td>\n",
              "      <td>0.001653</td>\n",
              "      <td>0.001481</td>\n",
              "      <td>0.001436</td>\n",
              "      <td>0.002753</td>\n",
              "      <td>0.001662</td>\n",
              "      <td>0.002543</td>\n",
              "      <td>0.000907</td>\n",
              "      <td>0.000870</td>\n",
              "      <td>0.003723</td>\n",
              "      <td>0.002735</td>\n",
              "      <td>0.003363</td>\n",
              "      <td>...</td>\n",
              "      <td>0.001476</td>\n",
              "      <td>0.001109</td>\n",
              "      <td>0.001075</td>\n",
              "      <td>0.000911</td>\n",
              "      <td>0.001384</td>\n",
              "      <td>0.006556</td>\n",
              "      <td>0.001745</td>\n",
              "      <td>0.005205</td>\n",
              "      <td>0.002437</td>\n",
              "      <td>0.002686</td>\n",
              "      <td>0.004146</td>\n",
              "      <td>0.002852</td>\n",
              "      <td>0.001031</td>\n",
              "      <td>0.001317</td>\n",
              "      <td>0.001468</td>\n",
              "      <td>0.002657</td>\n",
              "      <td>0.005227</td>\n",
              "      <td>0.001492</td>\n",
              "      <td>0.013194</td>\n",
              "      <td>0.001107</td>\n",
              "      <td>0.002707</td>\n",
              "      <td>0.002644</td>\n",
              "      <td>0.002950</td>\n",
              "      <td>0.001091</td>\n",
              "      <td>0.000817</td>\n",
              "      <td>0.001371</td>\n",
              "      <td>0.001740</td>\n",
              "      <td>0.002061</td>\n",
              "      <td>0.004074</td>\n",
              "      <td>0.001821</td>\n",
              "      <td>0.001505</td>\n",
              "      <td>0.001611</td>\n",
              "      <td>0.005087</td>\n",
              "      <td>0.001778</td>\n",
              "      <td>0.005093</td>\n",
              "      <td>0.001027</td>\n",
              "      <td>0.006251</td>\n",
              "      <td>0.001368</td>\n",
              "      <td>0.001698</td>\n",
              "      <td>0.003200</td>\n",
              "    </tr>\n",
              "    <tr>\n",
              "      <th>2</th>\n",
              "      <td>id_002429b5b</td>\n",
              "      <td>0.000266</td>\n",
              "      <td>0.000274</td>\n",
              "      <td>0.000351</td>\n",
              "      <td>0.000613</td>\n",
              "      <td>0.000898</td>\n",
              "      <td>0.000417</td>\n",
              "      <td>0.000410</td>\n",
              "      <td>0.000557</td>\n",
              "      <td>0.000206</td>\n",
              "      <td>0.000675</td>\n",
              "      <td>0.001353</td>\n",
              "      <td>0.000363</td>\n",
              "      <td>0.000265</td>\n",
              "      <td>0.000540</td>\n",
              "      <td>0.000246</td>\n",
              "      <td>0.000245</td>\n",
              "      <td>0.000390</td>\n",
              "      <td>0.000494</td>\n",
              "      <td>0.000448</td>\n",
              "      <td>0.000374</td>\n",
              "      <td>0.000296</td>\n",
              "      <td>0.000505</td>\n",
              "      <td>0.000251</td>\n",
              "      <td>0.000353</td>\n",
              "      <td>0.000274</td>\n",
              "      <td>0.000280</td>\n",
              "      <td>0.000291</td>\n",
              "      <td>0.000243</td>\n",
              "      <td>0.000456</td>\n",
              "      <td>0.000318</td>\n",
              "      <td>0.000315</td>\n",
              "      <td>0.000360</td>\n",
              "      <td>0.000286</td>\n",
              "      <td>0.000278</td>\n",
              "      <td>0.000219</td>\n",
              "      <td>0.000206</td>\n",
              "      <td>0.000673</td>\n",
              "      <td>0.000378</td>\n",
              "      <td>0.000474</td>\n",
              "      <td>...</td>\n",
              "      <td>0.000429</td>\n",
              "      <td>0.000346</td>\n",
              "      <td>0.000343</td>\n",
              "      <td>0.001041</td>\n",
              "      <td>0.000298</td>\n",
              "      <td>0.000279</td>\n",
              "      <td>0.000257</td>\n",
              "      <td>0.000301</td>\n",
              "      <td>0.000382</td>\n",
              "      <td>0.000247</td>\n",
              "      <td>0.001018</td>\n",
              "      <td>0.001642</td>\n",
              "      <td>0.000326</td>\n",
              "      <td>0.000309</td>\n",
              "      <td>0.000370</td>\n",
              "      <td>0.000372</td>\n",
              "      <td>0.000979</td>\n",
              "      <td>0.000250</td>\n",
              "      <td>0.000764</td>\n",
              "      <td>0.000277</td>\n",
              "      <td>0.000319</td>\n",
              "      <td>0.000494</td>\n",
              "      <td>0.000217</td>\n",
              "      <td>0.000280</td>\n",
              "      <td>0.000220</td>\n",
              "      <td>0.000388</td>\n",
              "      <td>0.000264</td>\n",
              "      <td>0.000273</td>\n",
              "      <td>0.000291</td>\n",
              "      <td>0.000303</td>\n",
              "      <td>0.000270</td>\n",
              "      <td>0.000342</td>\n",
              "      <td>0.000366</td>\n",
              "      <td>0.000565</td>\n",
              "      <td>0.000829</td>\n",
              "      <td>0.000213</td>\n",
              "      <td>0.000761</td>\n",
              "      <td>0.000305</td>\n",
              "      <td>0.000178</td>\n",
              "      <td>0.000329</td>\n",
              "    </tr>\n",
              "    <tr>\n",
              "      <th>3</th>\n",
              "      <td>id_00276f245</td>\n",
              "      <td>0.001192</td>\n",
              "      <td>0.001073</td>\n",
              "      <td>0.001686</td>\n",
              "      <td>0.004419</td>\n",
              "      <td>0.012219</td>\n",
              "      <td>0.003517</td>\n",
              "      <td>0.002614</td>\n",
              "      <td>0.003947</td>\n",
              "      <td>0.000732</td>\n",
              "      <td>0.005114</td>\n",
              "      <td>0.015186</td>\n",
              "      <td>0.002711</td>\n",
              "      <td>0.000980</td>\n",
              "      <td>0.002721</td>\n",
              "      <td>0.000973</td>\n",
              "      <td>0.001794</td>\n",
              "      <td>0.001848</td>\n",
              "      <td>0.004504</td>\n",
              "      <td>0.002518</td>\n",
              "      <td>0.001889</td>\n",
              "      <td>0.001519</td>\n",
              "      <td>0.002249</td>\n",
              "      <td>0.001045</td>\n",
              "      <td>0.002453</td>\n",
              "      <td>0.001419</td>\n",
              "      <td>0.001455</td>\n",
              "      <td>0.001695</td>\n",
              "      <td>0.002465</td>\n",
              "      <td>0.003236</td>\n",
              "      <td>0.001327</td>\n",
              "      <td>0.002136</td>\n",
              "      <td>0.002283</td>\n",
              "      <td>0.002246</td>\n",
              "      <td>0.001237</td>\n",
              "      <td>0.000802</td>\n",
              "      <td>0.001113</td>\n",
              "      <td>0.002682</td>\n",
              "      <td>0.001158</td>\n",
              "      <td>0.001030</td>\n",
              "      <td>...</td>\n",
              "      <td>0.003204</td>\n",
              "      <td>0.001452</td>\n",
              "      <td>0.001787</td>\n",
              "      <td>0.002386</td>\n",
              "      <td>0.001454</td>\n",
              "      <td>0.000941</td>\n",
              "      <td>0.000872</td>\n",
              "      <td>0.001091</td>\n",
              "      <td>0.001326</td>\n",
              "      <td>0.000943</td>\n",
              "      <td>0.008170</td>\n",
              "      <td>0.043784</td>\n",
              "      <td>0.002313</td>\n",
              "      <td>0.001953</td>\n",
              "      <td>0.003813</td>\n",
              "      <td>0.001966</td>\n",
              "      <td>0.005799</td>\n",
              "      <td>0.001814</td>\n",
              "      <td>0.002953</td>\n",
              "      <td>0.001234</td>\n",
              "      <td>0.000944</td>\n",
              "      <td>0.002887</td>\n",
              "      <td>0.001007</td>\n",
              "      <td>0.001194</td>\n",
              "      <td>0.001526</td>\n",
              "      <td>0.002076</td>\n",
              "      <td>0.001065</td>\n",
              "      <td>0.001335</td>\n",
              "      <td>0.000707</td>\n",
              "      <td>0.001341</td>\n",
              "      <td>0.000875</td>\n",
              "      <td>0.001472</td>\n",
              "      <td>0.002439</td>\n",
              "      <td>0.054209</td>\n",
              "      <td>0.003462</td>\n",
              "      <td>0.000842</td>\n",
              "      <td>0.001512</td>\n",
              "      <td>0.001530</td>\n",
              "      <td>0.000704</td>\n",
              "      <td>0.001832</td>\n",
              "    </tr>\n",
              "    <tr>\n",
              "      <th>4</th>\n",
              "      <td>id_0027f1083</td>\n",
              "      <td>0.002539</td>\n",
              "      <td>0.001978</td>\n",
              "      <td>0.002848</td>\n",
              "      <td>0.009963</td>\n",
              "      <td>0.015355</td>\n",
              "      <td>0.005141</td>\n",
              "      <td>0.003732</td>\n",
              "      <td>0.002185</td>\n",
              "      <td>0.000893</td>\n",
              "      <td>0.007651</td>\n",
              "      <td>0.013666</td>\n",
              "      <td>0.001794</td>\n",
              "      <td>0.000939</td>\n",
              "      <td>0.001773</td>\n",
              "      <td>0.002239</td>\n",
              "      <td>0.001880</td>\n",
              "      <td>0.003369</td>\n",
              "      <td>0.004638</td>\n",
              "      <td>0.003188</td>\n",
              "      <td>0.002108</td>\n",
              "      <td>0.003458</td>\n",
              "      <td>0.004779</td>\n",
              "      <td>0.001449</td>\n",
              "      <td>0.003009</td>\n",
              "      <td>0.001393</td>\n",
              "      <td>0.001212</td>\n",
              "      <td>0.001543</td>\n",
              "      <td>0.001715</td>\n",
              "      <td>0.005800</td>\n",
              "      <td>0.003546</td>\n",
              "      <td>0.002454</td>\n",
              "      <td>0.004927</td>\n",
              "      <td>0.002949</td>\n",
              "      <td>0.000969</td>\n",
              "      <td>0.000952</td>\n",
              "      <td>0.001171</td>\n",
              "      <td>0.002046</td>\n",
              "      <td>0.001432</td>\n",
              "      <td>0.000997</td>\n",
              "      <td>...</td>\n",
              "      <td>0.006003</td>\n",
              "      <td>0.001602</td>\n",
              "      <td>0.005063</td>\n",
              "      <td>0.007510</td>\n",
              "      <td>0.001243</td>\n",
              "      <td>0.001633</td>\n",
              "      <td>0.001390</td>\n",
              "      <td>0.002081</td>\n",
              "      <td>0.002264</td>\n",
              "      <td>0.002031</td>\n",
              "      <td>0.007416</td>\n",
              "      <td>0.013198</td>\n",
              "      <td>0.002485</td>\n",
              "      <td>0.003262</td>\n",
              "      <td>0.001853</td>\n",
              "      <td>0.002446</td>\n",
              "      <td>0.015641</td>\n",
              "      <td>0.003364</td>\n",
              "      <td>0.001218</td>\n",
              "      <td>0.002037</td>\n",
              "      <td>0.001467</td>\n",
              "      <td>0.002539</td>\n",
              "      <td>0.001072</td>\n",
              "      <td>0.001644</td>\n",
              "      <td>0.002932</td>\n",
              "      <td>0.003110</td>\n",
              "      <td>0.001443</td>\n",
              "      <td>0.001653</td>\n",
              "      <td>0.002413</td>\n",
              "      <td>0.001354</td>\n",
              "      <td>0.001432</td>\n",
              "      <td>0.001022</td>\n",
              "      <td>0.003854</td>\n",
              "      <td>0.002688</td>\n",
              "      <td>0.001635</td>\n",
              "      <td>0.001280</td>\n",
              "      <td>0.001808</td>\n",
              "      <td>0.002081</td>\n",
              "      <td>0.001092</td>\n",
              "      <td>0.002487</td>\n",
              "    </tr>\n",
              "  </tbody>\n",
              "</table>\n",
              "<p>5 rows × 207 columns</p>\n",
              "</div>"
            ],
            "text/plain": [
              "         sig_id  ...  wnt_inhibitor\n",
              "0  id_0004d9e33  ...       0.001514\n",
              "1  id_001897cda  ...       0.003200\n",
              "2  id_002429b5b  ...       0.000329\n",
              "3  id_00276f245  ...       0.001832\n",
              "4  id_0027f1083  ...       0.002487\n",
              "\n",
              "[5 rows x 207 columns]"
            ]
          },
          "metadata": {
            "tags": []
          },
          "execution_count": 55
        }
      ]
    },
    {
      "cell_type": "code",
      "metadata": {
        "id": "17rKVqb2R5LS",
        "outputId": "0441a655-f601-48bf-921c-a775b2fbaf20",
        "colab": {
          "base_uri": "https://localhost:8080/",
          "height": 50
        }
      },
      "source": [
        "noice_weights"
      ],
      "execution_count": 56,
      "outputs": [
        {
          "output_type": "execute_result",
          "data": {
            "text/plain": [
              "array([0.        , 0.46038109, 0.63369402, 0.98116544, 0.67098027,\n",
              "       0.80639975, 0.36714958])"
            ]
          },
          "metadata": {
            "tags": []
          },
          "execution_count": 56
        }
      ]
    },
    {
      "cell_type": "code",
      "metadata": {
        "id": "hxZ28eDgXVX_"
      },
      "source": [
        ""
      ],
      "execution_count": null,
      "outputs": []
    }
  ]
}